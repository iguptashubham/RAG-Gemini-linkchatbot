{
 "cells": [
  {
   "cell_type": "code",
   "execution_count": 1,
   "metadata": {},
   "outputs": [
    {
     "name": "stderr",
     "output_type": "stream",
     "text": [
      "c:\\Users\\gupta\\OneDrive\\Desktop\\Projects\\RAG\\myenv\\Lib\\site-packages\\tqdm\\auto.py:21: TqdmWarning: IProgress not found. Please update jupyter and ipywidgets. See https://ipywidgets.readthedocs.io/en/stable/user_install.html\n",
      "  from .autonotebook import tqdm as notebook_tqdm\n",
      "USER_AGENT environment variable not set, consider setting it to identify your requests.\n"
     ]
    }
   ],
   "source": [
    "from testmain import LLMChain"
   ]
  },
  {
   "cell_type": "code",
   "execution_count": 2,
   "metadata": {},
   "outputs": [],
   "source": [
    "links = ['https://indianexpress.com/article/technology/artificial-intelligence/nvidia-ai-summit-2024-live-updates-nvidia-ceo-jensen-huang-reliances-mukesh-ambani-to-talk-ai-and-india-9636057/',\n",
    "         'https://blog.langchain.dev/enhancing-rag-based-applications-accuracy-by-constructing-and-leveraging-knowledge-graphs/']"
   ]
  },
  {
   "cell_type": "code",
   "execution_count": 3,
   "metadata": {},
   "outputs": [
    {
     "name": "stderr",
     "output_type": "stream",
     "text": [
      "c:\\Users\\gupta\\OneDrive\\Desktop\\Projects\\RAG\\myenv\\Lib\\site-packages\\urllib3\\connectionpool.py:1099: InsecureRequestWarning: Unverified HTTPS request is being made to host 'indianexpress.com'. Adding certificate verification is strongly advised. See: https://urllib3.readthedocs.io/en/latest/advanced-usage.html#tls-warnings\n",
      "  warnings.warn(\n",
      "c:\\Users\\gupta\\OneDrive\\Desktop\\Projects\\RAG\\myenv\\Lib\\site-packages\\urllib3\\connectionpool.py:1099: InsecureRequestWarning: Unverified HTTPS request is being made to host 'blog.langchain.dev'. Adding certificate verification is strongly advised. See: https://urllib3.readthedocs.io/en/latest/advanced-usage.html#tls-warnings\n",
      "  warnings.warn(\n"
     ]
    }
   ],
   "source": [
    "chain = LLMChain()\n",
    "data = chain.data_collection(data=links)\n",
    "split = chain.data_split(data=data)"
   ]
  },
  {
   "cell_type": "code",
   "execution_count": 4,
   "metadata": {},
   "outputs": [],
   "source": [
    "vector = chain.vectordb(split,add=False)\n",
    "retriver = vector.as_retriever()"
   ]
  },
  {
   "cell_type": "code",
   "execution_count": 5,
   "metadata": {},
   "outputs": [
    {
     "data": {
      "text/plain": [
       "'Retrival Test Successful --> [Document(metadata={\\'language\\': \\'en\\', \\'source\\': \\'https://blog.langchain.dev/enhancing-rag-based-applications-accuracy-by-constructing-and-leveraging-knowledge-graphs/\\', \\'title\\': \\'Enhancing RAG-based application accuracy by constructing and leveraging knowledge graphs\\'}, page_content=\\'enhance the depth and contextuality of retrieved information.Example knowledge graph.Graphs are great at representing and storing heterogeneous and interconnected information in a structured manner, effortlessly capturing complex relationships and attributes across diverse data types. In contrast, vector databases often struggle with such structured information, as their strength lies in handling unstructured data through high-dimensional vectors. In your RAG application, you can combine structured graph data with vector search through unstructured text to achieve the best of both worlds,\\'), Document(metadata={\\'language\\': \\'en\\', \\'source\\': \\'https://blog.langchain.dev/enhancing-rag-based-applications-accuracy-by-constructing-and-leveraging-knowledge-graphs/\\', \\'title\\': \\'Enhancing RAG-based application accuracy by constructing and leveraging knowledge graphs\\'}, page_content=\\'enhance the depth and contextuality of retrieved information.Example knowledge graph.Graphs are great at representing and storing heterogeneous and interconnected information in a structured manner, effortlessly capturing complex relationships and attributes across diverse data types. In contrast, vector databases often struggle with such structured information, as their strength lies in handling unstructured data through high-dimensional vectors. In your RAG application, you can combine structured graph data with vector search through unstructured text to achieve the best of both worlds,\\'), Document(metadata={\\'language\\': \\'en\\', \\'source\\': \\'https://blog.langchain.dev/enhancing-rag-based-applications-accuracy-by-constructing-and-leveraging-knowledge-graphs/\\', \\'title\\': \\'Enhancing RAG-based application accuracy by constructing and leveraging knowledge graphs\\'}, page_content=\"A practical guide to constructing and retrieving information from knowledge graphs in RAG applications with Neo4j and LangChainEditor\\'s Note: the following is a guest blog post from Tomaz Bratanic, who focuses on Graph ML and GenAI research at Neo4j.\\\\xa0Neo4j is a graph database and analytics company which helps organizations find hidden relationships and patterns across billions of data connections deeply, easily, and quickly.Graph retrieval augmented generation (Graph RAG) is gaining momentum and emerging as a powerful addition to traditional vector search retrieval methods. This approach\")]'"
      ]
     },
     "execution_count": 5,
     "metadata": {},
     "output_type": "execute_result"
    }
   ],
   "source": [
    "chain.test_retrival(db=vector,query='how to enchance rag')"
   ]
  },
  {
   "cell_type": "code",
   "execution_count": 6,
   "metadata": {},
   "outputs": [],
   "source": [
    "prompt = chain.prompts()"
   ]
  },
  {
   "cell_type": "code",
   "execution_count": 7,
   "metadata": {},
   "outputs": [
    {
     "data": {
      "text/plain": [
       "'Okay, imagine you have a big box full of LEGOs of all shapes and colors. You want to build a castle, but you also have some instructions written on pieces of paper.\\n\\n* **Normal RAG** is like searching only through the paper instructions. You can find information, but it might not be very detailed or connected.\\n\\n* **Graph RAG** is like using both the instructions AND the LEGOs! You can see how the pieces fit together (the \"graph\") and read the instructions for extra help. This gives you a much better understanding of how to build the castle.\\n\\n**How it works:**\\n\\n1. **Knowledge Graph:** This is like organizing your LEGOs by color and size. You create connections between them, like \"this blue brick goes on top of this red brick.\"\\n2. **Neo4j:** This is like a special box that helps you store and organize your LEGOs (your knowledge graph) really well. \\n3. **LangChain:** This is like your assistant that understands both the instructions (text) and the LEGO connections. It fetches the right information from both.\\n\\n**Why is it better?**\\n\\n* **More Depth:** You get more than just simple answers. You understand the \"why\" and \"how\" behind things.\\n* **Better Context:**  It\\'s like knowing that the small LEGO door you found is actually for the castle\\'s secret passage!\\n* **Best of Both Worlds:** You use the strengths of both LEGOs (structured information) and instructions (unstructured text).\\n\\nSo, Graph RAG helps you build amazing things (like giving you super accurate answers) by combining the power of organized knowledge and smart searching! \\n'"
      ]
     },
     "execution_count": 7,
     "metadata": {},
     "output_type": "execute_result"
    }
   ],
   "source": [
    "chain.rag(query='Enhance rag',db=vector,prompt=prompt)"
   ]
  },
  {
   "cell_type": "markdown",
   "metadata": {},
   "source": [
    "'Okay, imagine you have a big box full of LEGOs of all shapes and colors. You want to build a castle, but you also have some instructions written on pieces of paper.\\n\\n* **Normal RAG** is like searching only through the paper instructions. You can find information, but it might not be very detailed or connected.\\n\\n* **Graph RAG** is like using both the instructions AND the LEGOs! You can see how the pieces fit together (the \"graph\") and read the instructions for extra help. This gives you a much better understanding of how to build the castle.\\n\\n**How it works:**\\n\\n1. **Knowledge Graph:** This is like organizing your LEGOs by color and size. You create connections between them, like \"this blue brick goes on top of this red brick.\"\\n2. **Neo4j:** This is like a special box that helps you store and organize your LEGOs (your knowledge graph) really well. \\n3. **LangChain:** This is like your assistant that understands both the instructions (text) and the LEGO connections. It fetches the right information from both.\\n\\n**Why is it better?**\\n\\n* **More Depth:** You get more than just simple answers. You understand the \"why\" and \"how\" behind things.\\n* **Better Context:**  It\\'s like knowing that the small LEGO door you found is actually for the castle\\'s secret passage!\\n* **Best of Both Worlds:** You use the strengths of both LEGOs (structured information) and instructions (unstructured text).\\n\\nSo, Graph RAG helps you build amazing things (like giving you super accurate answers) by combining the power of organized knowledge and smart searching! \\n'"
   ]
  }
 ],
 "metadata": {
  "kernelspec": {
   "display_name": "myenv",
   "language": "python",
   "name": "python3"
  },
  "language_info": {
   "codemirror_mode": {
    "name": "ipython",
    "version": 3
   },
   "file_extension": ".py",
   "mimetype": "text/x-python",
   "name": "python",
   "nbconvert_exporter": "python",
   "pygments_lexer": "ipython3",
   "version": "3.12.7"
  }
 },
 "nbformat": 4,
 "nbformat_minor": 2
}
